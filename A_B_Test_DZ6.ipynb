{
 "cells": [
  {
   "cell_type": "markdown",
   "metadata": {},
   "source": [
    "### 1."
   ]
  },
  {
   "cell_type": "code",
   "execution_count": 7,
   "metadata": {},
   "outputs": [],
   "source": [
    "import numpy as np\n",
    "from scipy.stats import norm, t"
   ]
  },
  {
   "cell_type": "code",
   "execution_count": 8,
   "metadata": {},
   "outputs": [],
   "source": [
    "n = 20000  # среднее количество пользователей в день\n",
    "sd = 156  # стандартная ошибка\n",
    "a = 0.05  # уровень значимости\n",
    "b = 0.2  # вероятность ошибки второго рода\n",
    "prop_diff = 0.1  # относительное изменение таймспента"
   ]
  },
  {
   "cell_type": "code",
   "execution_count": 9,
   "metadata": {},
   "outputs": [],
   "source": [
    "se = sd / np.sqrt(n)  # стандартная ошибка среднего\n",
    "m = se * norm.ppf(1 - alpha/2)  # граница для доверительного интервала\n",
    "delta = prop_diff * n  # абсолютное изменение таймспента"
   ]
  },
  {
   "cell_type": "code",
   "execution_count": 10,
   "metadata": {},
   "outputs": [],
   "source": [
    "z_a = norm.ppf(1 - a)  \n",
    "z_b = norm.ppf(1 - b) "
   ]
  },
  {
   "cell_type": "code",
   "execution_count": 11,
   "metadata": {},
   "outputs": [],
   "source": [
    "n_1 = (z_a*m + z_b*sd/delta)**2\n",
    "n_2 = (z_a*m - z_b*sd/delta)**2\n",
    "n_round = np.ceil(max(n_1, n_2))\n",
    "days = np.ceil(n_round/n)  # количество дней"
   ]
  },
  {
   "cell_type": "code",
   "execution_count": 12,
   "metadata": {},
   "outputs": [
    {
     "name": "stdout",
     "output_type": "stream",
     "text": [
      "Необходимо собрать данные в течении 1 дней\n"
     ]
    }
   ],
   "source": [
    "print(f\"Необходимо собрать данные в течении {int(days)} дней\")"
   ]
  },
  {
   "cell_type": "markdown",
   "metadata": {},
   "source": [
    "### 2."
   ]
  },
  {
   "cell_type": "code",
   "execution_count": 13,
   "metadata": {},
   "outputs": [],
   "source": [
    "import math\n",
    "import scipy.stats as stats"
   ]
  },
  {
   "cell_type": "code",
   "execution_count": 14,
   "metadata": {},
   "outputs": [],
   "source": [
    "def sample_size(mean1, mean2, alpha, beta, power, baseline):\n",
    "    std1 = math.sqrt(baseline * (1 - baseline))\n",
    "    z_alpha = stats.norm.ppf(1 - alpha / 2)\n",
    "    z_beta = stats.norm.ppf(power)\n",
    "    std2 = std1 * math.sqrt((baseline - mean2) ** 2 / (mean1 - mean2) ** 2)\n",
    "    return ((std1 * z_alpha + std2 * z_beta) / (mean1 - mean2)) ** 2"
   ]
  },
  {
   "cell_type": "code",
   "execution_count": 15,
   "metadata": {},
   "outputs": [
    {
     "data": {
      "text/plain": [
       "5"
      ]
     },
     "execution_count": 15,
     "metadata": {},
     "output_type": "execute_result"
    }
   ],
   "source": [
    "round(sample_size(mean1=0.4, mean2=-0.2, alpha=0.05, beta=0.2, power=0.8, \n",
    "                  baseline=0.4))"
   ]
  },
  {
   "cell_type": "markdown",
   "metadata": {},
   "source": [
    "5 дней нужно проводить эксперимент при alpha = 5% и beta = 20%"
   ]
  },
  {
   "cell_type": "code",
   "execution_count": null,
   "metadata": {},
   "outputs": [],
   "source": []
  }
 ],
 "metadata": {
  "kernelspec": {
   "display_name": "Python 3",
   "language": "python",
   "name": "python3"
  },
  "language_info": {
   "codemirror_mode": {
    "name": "ipython",
    "version": 3
   },
   "file_extension": ".py",
   "mimetype": "text/x-python",
   "name": "python",
   "nbconvert_exporter": "python",
   "pygments_lexer": "ipython3",
   "version": "3.6.13"
  }
 },
 "nbformat": 4,
 "nbformat_minor": 4
}
